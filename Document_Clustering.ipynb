{
  "nbformat": 4,
  "nbformat_minor": 0,
  "metadata": {
    "colab": {
      "provenance": [],
      "authorship_tag": "ABX9TyOiqsYHsxdzMGuTl67hzrqu"
    },
    "kernelspec": {
      "name": "python3",
      "display_name": "Python 3"
    },
    "language_info": {
      "name": "python"
    }
  },
  "cells": [
    {
      "cell_type": "code",
      "source": [
        "!unzip /content/twenty+newsgroups.zip"
      ],
      "metadata": {
        "id": "gTZvOEXiLy86",
        "colab": {
          "base_uri": "https://localhost:8080/"
        },
        "outputId": "7cd3ca5a-327f-45a2-f282-b191140f13b7"
      },
      "execution_count": 1,
      "outputs": [
        {
          "output_type": "stream",
          "name": "stdout",
          "text": [
            "Archive:  /content/twenty+newsgroups.zip\n",
            "  inflating: 20_newsgroups.tar.gz    \n",
            "  inflating: 20newsgroups.data.html  \n",
            "  inflating: 20newsgroups.html       \n",
            "  inflating: mini_newsgroups.tar.gz  \n"
          ]
        }
      ]
    },
    {
      "cell_type": "code",
      "source": [
        "import tarfile\n",
        "\n",
        "# open file\n",
        "file = tarfile.open('/content/20_newsgroups.tar.gz')\n",
        "\n",
        "# extracting file\n",
        "file.extractall()\n",
        "\n",
        "file.close()"
      ],
      "metadata": {
        "id": "4Jb146eXL1re"
      },
      "execution_count": 3,
      "outputs": []
    },
    {
      "cell_type": "code",
      "source": [
        "import os\n",
        "import nltk\n",
        "from nltk.corpus import stopwords\n",
        "from nltk.tokenize import word_tokenize\n",
        "from nltk.stem import WordNetLemmatizer\n",
        "\n",
        "# Download necessary NLTK data\n",
        "nltk.download('punkt')\n",
        "nltk.download('stopwords')\n",
        "nltk.download('wordnet')\n",
        "\n",
        "# Initialize the lemmatizer and stop words\n",
        "stop_words = set(stopwords.words('english'))\n",
        "lemmatizer = WordNetLemmatizer()\n",
        "\n",
        "def preprocess_documents(folder_path):\n",
        "    documents = []\n",
        "    for root, dirs, files in os.walk(folder_path):\n",
        "        for file in files:\n",
        "            file_path = os.path.join(root, file)\n",
        "            with open(file_path, 'r', errors='ignore') as f:\n",
        "                documents.append(f.read())\n",
        "\n",
        "    # Preprocess the documents\n",
        "    preprocessed_documents = []\n",
        "    for doc in documents:\n",
        "        words = word_tokenize(doc)\n",
        "        words_filtered = [lemmatizer.lemmatize(w) for w in words if w.isalpha() and w.lower() not in stop_words]\n",
        "        preprocessed_documents.append(' '.join(words_filtered))\n",
        "\n",
        "    return preprocessed_documents\n",
        "\n",
        "# Replace 'your_folder_path' with the path to the folder containing topic folders\n",
        "folder_path = '/content/20_newsgroups'\n",
        "preprocessed_documents = preprocess_documents(folder_path)\n",
        "\n",
        "# Debugging: Check the number of preprocessed documents\n",
        "print(f\"Number of preprocessed documents: {len(preprocessed_documents)}\")\n"
      ],
      "metadata": {
        "colab": {
          "base_uri": "https://localhost:8080/"
        },
        "id": "4kr_QUiz-YS8",
        "outputId": "6b95832b-602b-4596-916f-c39f9a3e5e7e"
      },
      "execution_count": 7,
      "outputs": [
        {
          "output_type": "stream",
          "name": "stderr",
          "text": [
            "[nltk_data] Downloading package punkt to /root/nltk_data...\n",
            "[nltk_data]   Unzipping tokenizers/punkt.zip.\n",
            "[nltk_data] Downloading package stopwords to /root/nltk_data...\n",
            "[nltk_data]   Unzipping corpora/stopwords.zip.\n",
            "[nltk_data] Downloading package wordnet to /root/nltk_data...\n"
          ]
        },
        {
          "output_type": "stream",
          "name": "stdout",
          "text": [
            "Number of preprocessed documents: 19997\n"
          ]
        }
      ]
    },
    {
      "cell_type": "code",
      "source": [
        "from gensim import corpora\n",
        "from gensim.models.ldamodel import LdaModel\n",
        "from gensim.models.coherencemodel import CoherenceModel\n",
        "import matplotlib.pyplot as plt\n",
        "\n",
        "# Create a dictionary and corpus for LDA\n",
        "texts = [doc.split() for doc in preprocessed_documents]\n",
        "dictionary = corpora.Dictionary(texts)\n",
        "dictionary.filter_extremes(no_below=15, no_above=0.5)\n",
        "corpus = [dictionary.doc2bow(text) for text in texts]\n",
        "\n",
        "# Compute coherence values for different numbers of topics\n",
        "def compute_coherence_values(dictionary, corpus, texts, limit, start=2, step=1):\n",
        "    coherence_values = []\n",
        "    model_list = []\n",
        "    for num_topics in range(start, limit, step):\n",
        "        model = LdaModel(corpus=corpus, num_topics=num_topics, id2word=dictionary, passes=15)\n",
        "        model_list.append(model)\n",
        "        coherencemodel = CoherenceModel(model=model, texts=texts, dictionary=dictionary, coherence='c_v')\n",
        "        coherence_values.append(coherencemodel.get_coherence())\n",
        "    return model_list, coherence_values\n",
        "\n",
        "limit = 20\n",
        "start = 2\n",
        "step = 1\n",
        "model_list, coherence_values = compute_coherence_values(dictionary=dictionary, corpus=corpus, texts=texts, start=start, limit=limit, step=step)\n",
        "\n",
        "# Show graph of coherence scores\n",
        "x = range(start, limit, step)\n",
        "plt.plot(x, coherence_values)\n",
        "plt.xlabel(\"Num Topics\")\n",
        "plt.ylabel(\"Coherence score\")\n",
        "plt.legend((\"coherence_values\"), loc='best')\n",
        "plt.show()\n",
        "\n",
        "# Print the coherence scores for each number of topics\n",
        "for m, cv in zip(x, coherence_values):\n",
        "    print(f\"Num Topics = {m}, Coherence Score = {cv}\")\n",
        "\n",
        "# Select the optimal number of topics (based on highest coherence score)\n",
        "optimal_num_topics = x[coherence_values.index(max(coherence_values))]\n",
        "print(f\"Optimal number of topics: {optimal_num_topics}\")\n",
        "\n",
        "# Train the final LDA model\n",
        "lda_model = LdaModel(corpus=corpus, num_topics=optimal_num_topics, id2word=dictionary, passes=15)\n",
        "\n",
        "# Print the topics\n",
        "for idx, topic in lda_model.print_topics(-1):\n",
        "    print(f\"Topic: {idx} \\nWords: {topic}\")\n"
      ],
      "metadata": {
        "colab": {
          "base_uri": "https://localhost:8080/",
          "height": 975
        },
        "id": "rIvDv2lM_NJR",
        "outputId": "f357a3af-ee2a-4c88-bebf-3d36568a6ec8"
      },
      "execution_count": 8,
      "outputs": [
        {
          "output_type": "display_data",
          "data": {
            "text/plain": [
              "<Figure size 640x480 with 1 Axes>"
            ],
            "image/png": "[encoded data removed]"
          },
          "metadata": {}
        },
        {
          "output_type": "stream",
          "name": "stdout",
          "text": [
            "Num Topics = 2, Coherence Score = 0.4353234875093159\n",
            "Num Topics = 3, Coherence Score = 0.4732746549724511\n",
            "Num Topics = 4, Coherence Score = 0.4825759843626478\n",
            "Num Topics = 5, Coherence Score = 0.617569881067202\n",
            "Num Topics = 6, Coherence Score = 0.5643867329173432\n",
            "Num Topics = 7, Coherence Score = 0.5940393102044018\n",
            "Num Topics = 8, Coherence Score = 0.4973716337441538\n",
            "Num Topics = 9, Coherence Score = 0.5829441770852325\n",
            "Num Topics = 10, Coherence Score = 0.5851499866498013\n",
            "Num Topics = 11, Coherence Score = 0.5210185789552851\n",
            "Num Topics = 12, Coherence Score = 0.612318818853827\n",
            "Num Topics = 13, Coherence Score = 0.5804998903773901\n",
            "Num Topics = 14, Coherence Score = 0.5592290344688217\n",
            "Num Topics = 15, Coherence Score = 0.5602499599107135\n",
            "Num Topics = 16, Coherence Score = 0.5746058433575684\n",
            "Num Topics = 17, Coherence Score = 0.5377689301787271\n",
            "Num Topics = 18, Coherence Score = 0.5410014970704182\n",
            "Num Topics = 19, Coherence Score = 0.5413336318497187\n",
            "Optimal number of topics: 5\n",
            "Topic: 0 \n",
            "Words: 0.010*\"University\" + 0.005*\"New\" + 0.005*\"Xref\" + 0.004*\"Distribution\" + 0.004*\"May\" + 0.004*\"news\" + 0.004*\"list\" + 0.004*\"rochester\" + 0.004*\"uunet\" + 0.003*\"Center\"\n",
            "Topic: 1 \n",
            "Words: 0.007*\"use\" + 0.006*\"file\" + 0.006*\"would\" + 0.006*\"one\" + 0.006*\"get\" + 0.005*\"system\" + 0.005*\"know\" + 0.005*\"program\" + 0.005*\"like\" + 0.005*\"image\"\n",
            "Topic: 2 \n",
            "Words: 0.199*\"X\" + 0.040*\"Q\" + 0.029*\"R\" + 0.025*\"G\" + 0.024*\"P\" + 0.024*\"C\" + 0.022*\"MAX\" + 0.022*\"N\" + 0.021*\"B\" + 0.020*\"E\"\n",
            "Topic: 3 \n",
            "Words: 0.009*\"people\" + 0.007*\"would\" + 0.007*\"one\" + 0.005*\"God\" + 0.005*\"article\" + 0.005*\"say\" + 0.004*\"government\" + 0.004*\"right\" + 0.004*\"think\" + 0.004*\"know\"\n",
            "Topic: 4 \n",
            "Words: 0.009*\"article\" + 0.009*\"would\" + 0.007*\"one\" + 0.007*\"get\" + 0.007*\"car\" + 0.006*\"like\" + 0.005*\"year\" + 0.005*\"think\" + 0.005*\"know\" + 0.005*\"time\"\n"
          ]
        }
      ]
    },
    {
      "cell_type": "code",
      "source": [
        "from sklearn.feature_extraction.text import TfidfVectorizer\n",
        "from sklearn.cluster import KMeans\n",
        "\n",
        "# Convert documents to TF-IDF matrix\n",
        "vectorizer = TfidfVectorizer(stop_words='english')\n",
        "X = vectorizer.fit_transform(preprocessed_documents)\n",
        "\n",
        "# Perform K-means clustering\n",
        "num_clusters = optimal_num_topics  # Use the optimal number of topics from LDA\n",
        "kmeans = KMeans(n_clusters=num_clusters, random_state=42)\n",
        "kmeans.fit(X)\n",
        "\n",
        "# Print the top terms per cluster\n",
        "order_centroids = kmeans.cluster_centers_.argsort()[:, ::-1]\n",
        "terms = vectorizer.get_feature_names_out()\n",
        "\n",
        "for i in range(num_clusters):\n",
        "    print(f\"Cluster {i}:\")\n",
        "    for ind in order_centroids[i, :10]:\n",
        "        print(f\" {terms[ind]}\")\n"
      ],
      "metadata": {
        "colab": {
          "base_uri": "https://localhost:8080/"
        },
        "id": "MbjgR3oe_T2j",
        "outputId": "e405cdf6-3eec-40ee-e866-e1ff2e2ab214"
      },
      "execution_count": 9,
      "outputs": [
        {
          "output_type": "stream",
          "name": "stderr",
          "text": [
            "/usr/local/lib/python3.10/dist-packages/sklearn/cluster/_kmeans.py:1416: FutureWarning: The default value of `n_init` will change from 10 to 'auto' in 1.4. Set the value of `n_init` explicitly to suppress the warning\n",
            "  super()._check_params_vs_input(X, default_n_init=10)\n"
          ]
        },
        {
          "output_type": "stream",
          "name": "stdout",
          "text": [
            "Cluster 0:\n",
            " game\n",
            " team\n",
            " player\n",
            " hockey\n",
            " year\n",
            " fan\n",
            " win\n",
            " baseball\n",
            " season\n",
            " play\n",
            "Cluster 1:\n",
            " drive\n",
            " file\n",
            " card\n",
            " windows\n",
            " window\n",
            " problem\n",
            " disk\n",
            " driver\n",
            " program\n",
            " scsi\n",
            "Cluster 2:\n",
            " news\n",
            " apr\n",
            " subject\n",
            " organization\n",
            " date\n",
            " gmt\n",
            " newsgroups\n",
            " path\n",
            " lines\n",
            " university\n",
            "Cluster 3:\n",
            " people\n",
            " government\n",
            " gun\n",
            " right\n",
            " key\n",
            " writes\n",
            " article\n",
            " law\n",
            " fbi\n",
            " israel\n",
            "Cluster 4:\n",
            " christian\n",
            " god\n",
            " jesus\n",
            " hedrick\n",
            " say\n",
            " approved\n",
            " rutgers\n",
            " morality\n",
            " people\n",
            " frank\n"
          ]
        }
      ]
    },
    {
      "cell_type": "code",
      "source": [],
      "metadata": {
        "id": "LZL5uukqUiSp"
      },
      "execution_count": null,
      "outputs": []
    }
  ]
}